Delete terry_stop.ipynb
