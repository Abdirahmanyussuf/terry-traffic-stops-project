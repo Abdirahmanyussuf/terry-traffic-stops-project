{
 "cells": [
  {
   "cell_type": "markdown",
   "id": "5e6450f7",
   "metadata": {},
   "source": [
    "### Introduction\n",
    "Traffic stops are one of the most frequent interactions between the public and law enforcement. They are a key component of proactive policing strategies. However, increasing public concern over racial profiling, over policing, and the actual effectiveness of searches has raised critical questions: Are these searches truly yielding results? Or are they disproportionately targeting certain groups with minimal outcomes?\n",
    "\n",
    "In this project, I aim to explore these questions using the Terry Traffic Stops dataset an open dataset detailing police stop-and-search records. My objective is to build predictive models that assess whether a stop is likely to result in the discovery of contraband. This outcome will provide insight into the efficiency and fairness of current search practices.\n",
    "\n",
    "### Business Context\n",
    "Law enforcement agencies must continuously demonstrate that their actions are both effective and equitable. By analyzing data from traffic stops, I can assess:\n",
    "\n",
    "Whether officers are accurately identifying situations where contraband is likely to be found.\n",
    "\n",
    "Whether certain groups are being disproportionately subjected to searches with low yield.\n",
    "\n",
    "How different contextual factors influence the likelihood of finding contraband.\n",
    "\n",
    "Through this analysis, I hope to provide valuable insights to support data-driven policy recommendations around policing strategy and accountability.\n",
    "\n",
    "### Problem Statement\n",
    "I have been tasked by a civil oversight organization focused on police reform and accountability to evaluate the effectiveness of traffic stop searches. Specifically, they are interested in understanding:\n",
    "\n",
    "How often searches result in the discovery of contraband.\n",
    "\n",
    "What demographic or situational patterns exist around these outcomes.\n",
    "\n",
    "Whether current practices reflect efficient use of resources and fair treatment across different groups.\n",
    "\n",
    "To address these goals, I will develop a binary classification model that predicts whether contraband is found during a police stop. This model will help:\n",
    "\n",
    "Measure the accuracy and efficiency of search practices.\n",
    "\n",
    "Identify potential demographic disparities in search results.\n",
    "\n",
    "Inform data-driven recommendations for improving officer training and protocols.\n",
    "\n",
    "### Objectives\n",
    "Objective 1: Which factors are most predictive of whether contraband is found during a traffic stop?\n",
    "\n",
    "Objective 2: How does the likelihood of finding contraband vary by driver demographics such as race and gender?\n",
    "\n",
    "Objective 3: Are there specific search types, locations, or reasons for stops that correlate with higher contraband discovery rates?\n",
    "\n",
    "Objective 4: What is the relationship between search outcomes and time-related factors (e.g., time of day, day of week, year)?\n",
    "\n",
    "Objective 5: Can predictive modeling help improve search efficiency and reduce unnecessary or ineffective searches?\n",
    "\n"
   ]
  },
  {
   "cell_type": "code",
   "execution_count": 144,
   "id": "a8f8a376",
   "metadata": {},
   "outputs": [],
   "source": [
    "import pandas as pd\n",
    "import numpy as np\n",
    "import matplotlib.pyplot as plt\n",
    "import seaborn as sns\n",
    "from sklearn.model_selection import train_test_split\n",
    "from sklearn.preprocessing import StandardScaler, LabelEncoder\n",
    "from sklearn.linear_model import LogisticRegression\n",
    "from sklearn.ensemble import RandomForestClassifier\n",
    "from sklearn.svm import SVC\n",
    "from sklearn.metrics import accuracy_score, classification_report, confusion_matrix\n",
    "from imblearn.over_sampling import SMOTE\n"
   ]
  },
  {
   "cell_type": "code",
   "execution_count": 145,
   "id": "e7ec85ec",
   "metadata": {},
   "outputs": [
    {
     "data": {
      "text/html": [
       "<div>\n",
       "<style scoped>\n",
       "    .dataframe tbody tr th:only-of-type {\n",
       "        vertical-align: middle;\n",
       "    }\n",
       "\n",
       "    .dataframe tbody tr th {\n",
       "        vertical-align: top;\n",
       "    }\n",
       "\n",
       "    .dataframe thead th {\n",
       "        text-align: right;\n",
       "    }\n",
       "</style>\n",
       "<table border=\"1\" class=\"dataframe\">\n",
       "  <thead>\n",
       "    <tr style=\"text-align: right;\">\n",
       "      <th></th>\n",
       "      <th>Subject Age Group</th>\n",
       "      <th>Subject ID</th>\n",
       "      <th>GO / SC Num</th>\n",
       "      <th>Terry Stop ID</th>\n",
       "      <th>Stop Resolution</th>\n",
       "      <th>Weapon Type</th>\n",
       "      <th>Officer ID</th>\n",
       "      <th>Officer YOB</th>\n",
       "      <th>Officer Gender</th>\n",
       "      <th>Officer Race</th>\n",
       "      <th>...</th>\n",
       "      <th>Reported Time</th>\n",
       "      <th>Initial Call Type</th>\n",
       "      <th>Final Call Type</th>\n",
       "      <th>Call Type</th>\n",
       "      <th>Officer Squad</th>\n",
       "      <th>Arrest Flag</th>\n",
       "      <th>Frisk Flag</th>\n",
       "      <th>Precinct</th>\n",
       "      <th>Sector</th>\n",
       "      <th>Beat</th>\n",
       "    </tr>\n",
       "  </thead>\n",
       "  <tbody>\n",
       "    <tr>\n",
       "      <th>0</th>\n",
       "      <td>26 - 35</td>\n",
       "      <td>7814080789</td>\n",
       "      <td>20210000000561</td>\n",
       "      <td>19256028453</td>\n",
       "      <td>Arrest</td>\n",
       "      <td>-</td>\n",
       "      <td>8719</td>\n",
       "      <td>1996</td>\n",
       "      <td>Male</td>\n",
       "      <td>Asian</td>\n",
       "      <td>...</td>\n",
       "      <td>18:53:26.0000000</td>\n",
       "      <td>BURG - OCCUPIED RESD</td>\n",
       "      <td>DV - ENFORCE COURT ORDER (ARREST MANDATED)</td>\n",
       "      <td>911</td>\n",
       "      <td>NORTH PCT 2ND W - L/U RELIEF</td>\n",
       "      <td>Y</td>\n",
       "      <td>N</td>\n",
       "      <td>North</td>\n",
       "      <td>N</td>\n",
       "      <td>N3</td>\n",
       "    </tr>\n",
       "    <tr>\n",
       "      <th>1</th>\n",
       "      <td>36 - 45</td>\n",
       "      <td>7727057353</td>\n",
       "      <td>20240000027395</td>\n",
       "      <td>53955085178</td>\n",
       "      <td>Field Contact</td>\n",
       "      <td>-</td>\n",
       "      <td>8926</td>\n",
       "      <td>1989</td>\n",
       "      <td>Male</td>\n",
       "      <td>Declined to Answer</td>\n",
       "      <td>...</td>\n",
       "      <td>00:03:08.0000000</td>\n",
       "      <td>SUSPICIOUS STOP - OFFICER INITIATED ONVIEW</td>\n",
       "      <td>PRISONER ESCORT - BUSY CODE</td>\n",
       "      <td>ONVIEW</td>\n",
       "      <td>TRAINING - FIELD TRAINING SQUAD</td>\n",
       "      <td>N</td>\n",
       "      <td>N</td>\n",
       "      <td>West</td>\n",
       "      <td>M</td>\n",
       "      <td>M3</td>\n",
       "    </tr>\n",
       "    <tr>\n",
       "      <th>2</th>\n",
       "      <td>26 - 35</td>\n",
       "      <td>-1</td>\n",
       "      <td>20170000283621</td>\n",
       "      <td>293477</td>\n",
       "      <td>Referred for Prosecution</td>\n",
       "      <td>None</td>\n",
       "      <td>7435</td>\n",
       "      <td>1979</td>\n",
       "      <td>Male</td>\n",
       "      <td>White</td>\n",
       "      <td>...</td>\n",
       "      <td>08:30:00.0000000</td>\n",
       "      <td>-</td>\n",
       "      <td>-</td>\n",
       "      <td>-</td>\n",
       "      <td>NARC - PROACTIVE SQUAD C</td>\n",
       "      <td>N</td>\n",
       "      <td>Y</td>\n",
       "      <td>Unknown</td>\n",
       "      <td>-</td>\n",
       "      <td>-</td>\n",
       "    </tr>\n",
       "    <tr>\n",
       "      <th>3</th>\n",
       "      <td>36 - 45</td>\n",
       "      <td>-1</td>\n",
       "      <td>20180000003600</td>\n",
       "      <td>484941</td>\n",
       "      <td>Field Contact</td>\n",
       "      <td>None</td>\n",
       "      <td>7690</td>\n",
       "      <td>1977</td>\n",
       "      <td>Male</td>\n",
       "      <td>White</td>\n",
       "      <td>...</td>\n",
       "      <td>05:15:00.0000000</td>\n",
       "      <td>-</td>\n",
       "      <td>-</td>\n",
       "      <td>-</td>\n",
       "      <td>WEST PCT 1ST W - DAVID - PLATOON 1</td>\n",
       "      <td>N</td>\n",
       "      <td>N</td>\n",
       "      <td>-</td>\n",
       "      <td>-</td>\n",
       "      <td>-</td>\n",
       "    </tr>\n",
       "    <tr>\n",
       "      <th>4</th>\n",
       "      <td>18 - 25</td>\n",
       "      <td>54563019066</td>\n",
       "      <td>20240000059626</td>\n",
       "      <td>54562957133</td>\n",
       "      <td>Field Contact</td>\n",
       "      <td>-</td>\n",
       "      <td>8708</td>\n",
       "      <td>1989</td>\n",
       "      <td>Male</td>\n",
       "      <td>Black or African American</td>\n",
       "      <td>...</td>\n",
       "      <td>05:16:25.0000000</td>\n",
       "      <td>SUSPICIOUS PERSON, VEHICLE, OR INCIDENT</td>\n",
       "      <td>DV - ARGUMENTS, DISTURBANCE (NO ARREST)</td>\n",
       "      <td>911</td>\n",
       "      <td>SOUTHWEST PCT 1ST W - FRANK - PLATOON 2</td>\n",
       "      <td>N</td>\n",
       "      <td>N</td>\n",
       "      <td>Southwest</td>\n",
       "      <td>F</td>\n",
       "      <td>F2</td>\n",
       "    </tr>\n",
       "  </tbody>\n",
       "</table>\n",
       "<p>5 rows × 23 columns</p>\n",
       "</div>"
      ],
      "text/plain": [
       "  Subject Age Group   Subject ID     GO / SC Num  Terry Stop ID  \\\n",
       "0           26 - 35   7814080789  20210000000561    19256028453   \n",
       "1           36 - 45   7727057353  20240000027395    53955085178   \n",
       "2           26 - 35           -1  20170000283621         293477   \n",
       "3           36 - 45           -1  20180000003600         484941   \n",
       "4           18 - 25  54563019066  20240000059626    54562957133   \n",
       "\n",
       "            Stop Resolution Weapon Type Officer ID  Officer YOB  \\\n",
       "0                    Arrest           -       8719         1996   \n",
       "1             Field Contact           -       8926         1989   \n",
       "2  Referred for Prosecution        None       7435         1979   \n",
       "3             Field Contact        None       7690         1977   \n",
       "4             Field Contact           -       8708         1989   \n",
       "\n",
       "  Officer Gender               Officer Race  ...     Reported Time  \\\n",
       "0           Male                      Asian  ...  18:53:26.0000000   \n",
       "1           Male         Declined to Answer  ...  00:03:08.0000000   \n",
       "2           Male                      White  ...  08:30:00.0000000   \n",
       "3           Male                      White  ...  05:15:00.0000000   \n",
       "4           Male  Black or African American  ...  05:16:25.0000000   \n",
       "\n",
       "                            Initial Call Type  \\\n",
       "0                        BURG - OCCUPIED RESD   \n",
       "1  SUSPICIOUS STOP - OFFICER INITIATED ONVIEW   \n",
       "2                                           -   \n",
       "3                                           -   \n",
       "4     SUSPICIOUS PERSON, VEHICLE, OR INCIDENT   \n",
       "\n",
       "                              Final Call Type Call Type  \\\n",
       "0  DV - ENFORCE COURT ORDER (ARREST MANDATED)       911   \n",
       "1                 PRISONER ESCORT - BUSY CODE    ONVIEW   \n",
       "2                                           -         -   \n",
       "3                                           -         -   \n",
       "4     DV - ARGUMENTS, DISTURBANCE (NO ARREST)       911   \n",
       "\n",
       "                             Officer Squad Arrest Flag Frisk Flag   Precinct  \\\n",
       "0             NORTH PCT 2ND W - L/U RELIEF           Y          N      North   \n",
       "1          TRAINING - FIELD TRAINING SQUAD           N          N       West   \n",
       "2                 NARC - PROACTIVE SQUAD C           N          Y    Unknown   \n",
       "3       WEST PCT 1ST W - DAVID - PLATOON 1           N          N          -   \n",
       "4  SOUTHWEST PCT 1ST W - FRANK - PLATOON 2           N          N  Southwest   \n",
       "\n",
       "  Sector Beat  \n",
       "0      N   N3  \n",
       "1      M   M3  \n",
       "2      -    -  \n",
       "3      -    -  \n",
       "4      F   F2  \n",
       "\n",
       "[5 rows x 23 columns]"
      ]
     },
     "execution_count": 145,
     "metadata": {},
     "output_type": "execute_result"
    }
   ],
   "source": [
    "df=pd.read_csv(\"C:/Users/HP/Downloads/Terry_Stops.csv\")\n",
    "df.head(5)"
   ]
  },
  {
   "cell_type": "markdown",
   "id": "27183269",
   "metadata": {},
   "source": [
    "### Understanding the data"
   ]
  },
  {
   "cell_type": "code",
   "execution_count": 146,
   "id": "c53866e0",
   "metadata": {},
   "outputs": [
    {
     "data": {
      "text/plain": [
       "Index(['Subject Age Group', 'Subject ID', 'GO / SC Num', 'Terry Stop ID',\n",
       "       'Stop Resolution', 'Weapon Type', 'Officer ID', 'Officer YOB',\n",
       "       'Officer Gender', 'Officer Race', 'Subject Perceived Race',\n",
       "       'Subject Perceived Gender', 'Reported Date', 'Reported Time',\n",
       "       'Initial Call Type', 'Final Call Type', 'Call Type', 'Officer Squad',\n",
       "       'Arrest Flag', 'Frisk Flag', 'Precinct', 'Sector', 'Beat'],\n",
       "      dtype='object')"
      ]
     },
     "execution_count": 146,
     "metadata": {},
     "output_type": "execute_result"
    }
   ],
   "source": [
    "# checking columns\n",
    "df.columns"
   ]
  },
  {
   "cell_type": "code",
   "execution_count": 147,
   "id": "3ef218db",
   "metadata": {},
   "outputs": [
    {
     "data": {
      "text/plain": [
       "(63693, 23)"
      ]
     },
     "execution_count": 147,
     "metadata": {},
     "output_type": "execute_result"
    }
   ],
   "source": [
    "df.shape"
   ]
  },
  {
   "cell_type": "code",
   "execution_count": 148,
   "id": "3cdd5b84",
   "metadata": {},
   "outputs": [
    {
     "name": "stdout",
     "output_type": "stream",
     "text": [
      "<class 'pandas.core.frame.DataFrame'>\n",
      "RangeIndex: 63693 entries, 0 to 63692\n",
      "Data columns (total 23 columns):\n",
      " #   Column                    Non-Null Count  Dtype \n",
      "---  ------                    --------------  ----- \n",
      " 0   Subject Age Group         63693 non-null  object\n",
      " 1   Subject ID                63693 non-null  int64 \n",
      " 2   GO / SC Num               63693 non-null  int64 \n",
      " 3   Terry Stop ID             63693 non-null  int64 \n",
      " 4   Stop Resolution           63693 non-null  object\n",
      " 5   Weapon Type               63693 non-null  object\n",
      " 6   Officer ID                63693 non-null  object\n",
      " 7   Officer YOB               63693 non-null  int64 \n",
      " 8   Officer Gender            63693 non-null  object\n",
      " 9   Officer Race              63693 non-null  object\n",
      " 10  Subject Perceived Race    63693 non-null  object\n",
      " 11  Subject Perceived Gender  63693 non-null  object\n",
      " 12  Reported Date             63693 non-null  object\n",
      " 13  Reported Time             63693 non-null  object\n",
      " 14  Initial Call Type         63693 non-null  object\n",
      " 15  Final Call Type           63693 non-null  object\n",
      " 16  Call Type                 63693 non-null  object\n",
      " 17  Officer Squad             63130 non-null  object\n",
      " 18  Arrest Flag               63693 non-null  object\n",
      " 19  Frisk Flag                63693 non-null  object\n",
      " 20  Precinct                  63693 non-null  object\n",
      " 21  Sector                    63693 non-null  object\n",
      " 22  Beat                      63693 non-null  object\n",
      "dtypes: int64(4), object(19)\n",
      "memory usage: 11.2+ MB\n"
     ]
    }
   ],
   "source": [
    "df.info()"
   ]
  },
  {
   "cell_type": "markdown",
   "id": "8abfda9c",
   "metadata": {},
   "source": [
    "### Check for Missing and Invalid Values"
   ]
  },
  {
   "cell_type": "code",
   "execution_count": 149,
   "id": "7afa4971",
   "metadata": {},
   "outputs": [
    {
     "data": {
      "text/plain": [
       "Subject Age Group            2335\n",
       "Subject ID                      0\n",
       "GO / SC Num                     0\n",
       "Terry Stop ID                   0\n",
       "Stop Resolution                 0\n",
       "Weapon Type                 27071\n",
       "Officer ID                     24\n",
       "Officer YOB                     0\n",
       "Officer Gender                  0\n",
       "Officer Race                    0\n",
       "Subject Perceived Race       1822\n",
       "Subject Perceived Gender      249\n",
       "Reported Date                   0\n",
       "Reported Time                   0\n",
       "Initial Call Type           13567\n",
       "Final Call Type             13567\n",
       "Call Type                   13567\n",
       "Officer Squad                   0\n",
       "Arrest Flag                     0\n",
       "Frisk Flag                    478\n",
       "Precinct                    10759\n",
       "Sector                      10910\n",
       "Beat                        10904\n",
       "dtype: int64"
      ]
     },
     "execution_count": 149,
     "metadata": {},
     "output_type": "execute_result"
    }
   ],
   "source": [
    "df.isnull().sum()\n",
    "(df == '-').sum()  \n"
   ]
  },
  {
   "cell_type": "markdown",
   "id": "37878129",
   "metadata": {},
   "source": [
    "This output shows the number of missing values in each column of the dataset. Columns like Weapon Type, Call Type, and Precinct have a high number of missing values, which may affect analysis. Others like Subject Age Group and Frisk Flag have moderate missingness that might need cleaning or imputation."
   ]
  },
  {
   "cell_type": "markdown",
   "id": "1a75af3a",
   "metadata": {},
   "source": [
    "#### Data cleaning"
   ]
  },
  {
   "cell_type": "code",
   "execution_count": 150,
   "id": "dd07c999",
   "metadata": {},
   "outputs": [],
   "source": [
    "# Add officer age from birth year\n",
    "df['officer_age'] = 2024 - df['Officer YOB']\n",
    "\n",
    "# Drop unhelpful ID fields and now-redundant birth year\n",
    "df.drop(['Terry Stop ID', 'Subject ID', 'GO / SC Num', 'Officer YOB'], axis=1, inplace=True)\n"
   ]
  },
  {
   "cell_type": "markdown",
   "id": "be4aa1a6",
   "metadata": {},
   "source": [
    "This code calculates the officer's age by subtracting their year of birth from 2024 and storing it in a new column officer_age, which is more useful for analysis than the raw birth year. It then removes unhelpful ID fields (Terry Stop ID, Subject ID, GO / SC Num) and the now-redundant Officer YOB column to reduce redundancy, avoid multicollinearity, and eliminate noise from non-predictive data."
   ]
  },
  {
   "cell_type": "code",
   "execution_count": 151,
   "id": "97e33ac2",
   "metadata": {},
   "outputs": [],
   "source": [
    "df.drop([\n",
    "    'Subject Age Group',\n",
    "    'Officer ID',\n",
    "    'Reported Date',\n",
    "    'Reported Time',\n",
    "    'Officer Squad',\n",
    "    'Precinct',\n",
    "    'Sector',\n",
    "    'Beat'\n",
    "], axis=1, inplace=True)\n"
   ]
  },
  {
   "cell_type": "markdown",
   "id": "a3168bf2",
   "metadata": {},
   "source": [
    "This code removes several unnecessary columns from the DataFrame df.\n",
    "The columns are dropped along the column axis (axis=1) to clean up the dataset.\n",
    "Using inplace=True means the original DataFrame is modified directly without creating a copy."
   ]
  },
  {
   "cell_type": "markdown",
   "id": "14368de4",
   "metadata": {},
   "source": [
    "### Standardize Categorical Values"
   ]
  },
  {
   "cell_type": "code",
   "execution_count": 152,
   "id": "e2f159b9",
   "metadata": {},
   "outputs": [],
   "source": [
    "df['Subject Perceived Gender'] = df['Subject Perceived Gender'].str.strip().str.lower()\n",
    "df['Subject Perceived Race'] = df['Subject Perceived Race'].str.strip().str.lower()\n",
    "df['Frisk Flag'] = df['Frisk Flag'].str.lower()\n"
   ]
  },
  {
   "cell_type": "markdown",
   "id": "4b20f823",
   "metadata": {},
   "source": [
    "This code standardizes text data in specific columns of the DataFrame df.\n",
    "It removes any leading or trailing spaces and converts the text to lowercase for consistent formatting.\n",
    "This helps avoid mismatches due to capitalization or extra spaces during analysis."
   ]
  },
  {
   "cell_type": "code",
   "execution_count": 153,
   "id": "b8937cec",
   "metadata": {},
   "outputs": [
    {
     "data": {
      "text/plain": [
       "Stop Resolution             0\n",
       "Weapon Type                 0\n",
       "Officer Gender              0\n",
       "Officer Race                0\n",
       "Subject Perceived Race      0\n",
       "Subject Perceived Gender    0\n",
       "Initial Call Type           0\n",
       "Final Call Type             0\n",
       "Call Type                   0\n",
       "Arrest Flag                 0\n",
       "Frisk Flag                  0\n",
       "officer_age                 0\n",
       "dtype: int64"
      ]
     },
     "execution_count": 153,
     "metadata": {},
     "output_type": "execute_result"
    }
   ],
   "source": [
    "df.isnull().sum()  # see what's missing\n"
   ]
  },
  {
   "cell_type": "code",
   "execution_count": 154,
   "id": "05bef73b",
   "metadata": {},
   "outputs": [],
   "source": [
    "df.drop_duplicates(inplace=True)\n"
   ]
  },
  {
   "cell_type": "markdown",
   "id": "07dd1fef",
   "metadata": {},
   "source": [
    "### Standardize Text Columns"
   ]
  },
  {
   "cell_type": "code",
   "execution_count": 155,
   "id": "ae3bca0f",
   "metadata": {},
   "outputs": [],
   "source": [
    "text_cols = ['Frisk Flag','Stop Resolution',\n",
    "             'Subject Perceived Race', 'Subject Perceived Gender',\n",
    "             'Officer Race', 'Officer Gender', 'Call Type']\n",
    "\n",
    "for col in text_cols:\n",
    "    df[col] = df[col].astype(str).str.lower().str.strip()\n"
   ]
  },
  {
   "cell_type": "markdown",
   "id": "723803e1",
   "metadata": {},
   "source": [
    "This code converts the specified columns in text_cols to strings and standardizes their text.\n",
    "It strips any leading or trailing whitespace and converts all text to lowercase.\n",
    "This ensures consistent formatting across multiple categorical text columns in the DataFrame."
   ]
  },
  {
   "cell_type": "markdown",
   "id": "d0753ccc",
   "metadata": {},
   "source": [
    "#### Creating a Target Column contraband_found\n",
    "I assume that if a frisk was conducted and weapon or contraband was found, then contraband_found = 1, otherwise 0.\n",
    "I’ll use a proxy based on Frisk Flag, Weapon Type, and potentially Stop Resolution"
   ]
  },
  {
   "cell_type": "code",
   "execution_count": 156,
   "id": "2fa249c9",
   "metadata": {},
   "outputs": [
    {
     "data": {
      "text/plain": [
       "0    0.80848\n",
       "1    0.19152\n",
       "Name: contraband_found, dtype: float64"
      ]
     },
     "execution_count": 156,
     "metadata": {},
     "output_type": "execute_result"
    }
   ],
   "source": [
    "# Step 1: Create a new column 'contraband_found'\n",
    "df['Frisk Flag'] = df['Frisk Flag'].str.lower().str.strip()\n",
    "df['Weapon Type'] = df['Weapon Type'].str.lower().str.strip()\n",
    "\n",
    "# If frisked and a weapon (or anything) is recorded, we assume contraband was found\n",
    "df['contraband_found'] = ((df['Frisk Flag'] == 'y') & (df['Weapon Type'] != 'none')).astype(int)\n",
    "\n",
    "# Check distribution\n",
    "df['contraband_found'].value_counts(normalize=True)\n"
   ]
  },
  {
   "cell_type": "code",
   "execution_count": 157,
   "id": "adb5a6ef",
   "metadata": {},
   "outputs": [],
   "source": [
    "df.drop(['Frisk Flag', 'Weapon Type'], axis=1, inplace=True)"
   ]
  },
  {
   "cell_type": "markdown",
   "id": "bc1aaf50",
   "metadata": {},
   "source": [
    "his shows the distribution of the contraband_found column as proportions.\n",
    "\n",
    "0 represents the proportion of records where no contraband was found (~80.8%).\n",
    "\n",
    "1 represents the proportion where contraband was found (~19.2%).\n",
    "\n",
    "This helps understand the class balance in the dataset."
   ]
  },
  {
   "cell_type": "markdown",
   "id": "cb633ec3",
   "metadata": {},
   "source": [
    " ##### Statistical Association (Chi-Square for Categoricals)\n",
    "I’ll now check whether there’s a statistically significant relationship between each categorical variable and contraband_found using Chi-square test."
   ]
  },
  {
   "cell_type": "code",
   "execution_count": 158,
   "id": "241b4c04",
   "metadata": {},
   "outputs": [],
   "source": [
    "df.dropna(subset=['contraband_found'], inplace=True)  # drop rows without a target"
   ]
  },
  {
   "cell_type": "markdown",
   "id": "bb2e6688",
   "metadata": {},
   "source": [
    "### Understand Target Balance\n",
    "It's important to check how balanced your target variable is, because unbalanced classes can affect  model’s performance."
   ]
  },
  {
   "cell_type": "code",
   "execution_count": 200,
   "id": "c75115f2",
   "metadata": {},
   "outputs": [
    {
     "data": {
      "image/png": "[encoded data removed]",
      "text/plain": [
       "<Figure size 432x288 with 1 Axes>"
      ]
     },
     "metadata": {
      "needs_background": "light"
     },
     "output_type": "display_data"
    }
   ],
   "source": [
    "sns.countplot(x='contraband_found', data=df)\n",
    "plt.title(\"Distribution of Contraband Found\")\n",
    "plt.xlabel(\"Contraband Found (1 = Yes, 0 = No)\")\n",
    "plt.ylabel(\"Count\")\n",
    "plt.show()\n"
   ]
  },
  {
   "cell_type": "markdown",
   "id": "43095c8b",
   "metadata": {},
   "source": [
    "This bar chart shows the distribution of \"Contraband Found.\" The majority of cases (represented by '0') indicate no contraband was found, while a smaller number of cases ('1') show contraband was present."
   ]
  },
  {
   "cell_type": "markdown",
   "id": "9f33e2b2",
   "metadata": {},
   "source": [
    " #### Feature-Target Relationships (Categorical)\n",
    "Let’s explore how different categorical features relate to the target variable. I'll visualize them."
   ]
  },
  {
   "cell_type": "markdown",
   "id": "0b3a3d9c",
   "metadata": {},
   "source": [
    " #### Frisk Flag\n"
   ]
  },
  {
   "cell_type": "markdown",
   "id": "a8eeec54",
   "metadata": {},
   "source": [
    "This bar chart visualizes the relationship between 'Frisk Flag' and 'contraband_found'. It shows that when a frisk was performed, contraband was found more frequently, whereas when no frisk occurred, contraband was rarely found."
   ]
  },
  {
   "cell_type": "markdown",
   "id": "3dcfb9e4",
   "metadata": {},
   "source": [
    "#### Subject Perceived Gender"
   ]
  },
  {
   "cell_type": "code",
   "execution_count": 160,
   "id": "33649afa",
   "metadata": {},
   "outputs": [
    {
     "data": {
      "image/png": "[encoded data removed]",
      "text/plain": [
       "<Figure size 432x288 with 1 Axes>"
      ]
     },
     "metadata": {
      "needs_background": "light"
     },
     "output_type": "display_data"
    }
   ],
   "source": [
    "sns.countplot(data=df, x='Subject Perceived Gender', hue='contraband_found')\n",
    "plt.title('Subject Gender vs Contraband Found')\n",
    "plt.xticks(rotation=45)\n",
    "plt.show()\n"
   ]
  },
  {
   "cell_type": "markdown",
   "id": "c194b450",
   "metadata": {},
   "source": [
    "This bar chart illustrates the relationship between 'Subject Perceived Gender' and 'contraband_found'. It shows that for 'male' and 'female' subjects, contraband was found in a small proportion of cases, with the majority of stops not yielding contraband. For other gender categories, the counts of both contraband found and not found are very low."
   ]
  },
  {
   "cell_type": "markdown",
   "id": "3ccdeed0",
   "metadata": {},
   "source": [
    "#### Subject Perceived Race"
   ]
  },
  {
   "cell_type": "code",
   "execution_count": 161,
   "id": "a0717a3b",
   "metadata": {},
   "outputs": [
    {
     "data": {
      "image/png": "[encoded data removed]",
      "text/plain": [
       "<Figure size 432x288 with 1 Axes>"
      ]
     },
     "metadata": {
      "needs_background": "light"
     },
     "output_type": "display_data"
    }
   ],
   "source": [
    "sns.countplot(data=df, x='Subject Perceived Race', hue='contraband_found')\n",
    "plt.title('Race vs Contraband Found')\n",
    "plt.xticks(rotation=45)\n",
    "plt.show()\n"
   ]
  },
  {
   "cell_type": "markdown",
   "id": "e4bc5d61",
   "metadata": {},
   "source": [
    "This bar chart displays the relationship between 'Subject Perceived Race' and 'contraband_found'. For most racial categories, the count of stops where no contraband was found ('0') is significantly higher than where contraband was found ('1'). Notably, for 'Black or African American' and 'Hispanic' subjects, while the majority of stops did not yield contraband, there is a visible presence of contraband found, albeit in a smaller proportion. Other racial categories show very low counts for both outcomes."
   ]
  },
  {
   "cell_type": "markdown",
   "id": "4438ea2a",
   "metadata": {},
   "source": [
    "# VISUALIZATION"
   ]
  },
  {
   "cell_type": "markdown",
   "id": "69e74a06",
   "metadata": {},
   "source": [
    "### Distribution of Stop Resolutions"
   ]
  },
  {
   "cell_type": "code",
   "execution_count": 216,
   "id": "4ab6edca",
   "metadata": {},
   "outputs": [
    {
     "data": {
      "image/png": "[encoded data removed]",
      "text/plain": [
       "<Figure size 720x432 with 1 Axes>"
      ]
     },
     "metadata": {
      "needs_background": "light"
     },
     "output_type": "display_data"
    }
   ],
   "source": [
    "plt.figure(figsize=(10, 6))\n",
    "sns.countplot(y='Stop Resolution', data=df, order=df['Stop Resolution'].value_counts().index)\n",
    "plt.title('Distribution of Stop Resolutions')\n",
    "plt.xlabel('Count')\n",
    "plt.ylabel('Stop Resolution')\n",
    "plt.tight_layout()\n",
    "plt.show()\n"
   ]
  },
  {
   "cell_type": "markdown",
   "id": "b576d333",
   "metadata": {},
   "source": [
    "This bar chart displays the distribution of different stop resolutions in the dataset. Each bar represents how many times a particular outcome occurred after a traffic stop\n",
    "The longer the bar, the more frequently that resolution was used."
   ]
  },
  {
   "cell_type": "markdown",
   "id": "e17d8cb3",
   "metadata": {},
   "source": [
    "### Subject Gender vs Officer Gender"
   ]
  },
  {
   "cell_type": "code",
   "execution_count": 207,
   "id": "52b7477b",
   "metadata": {},
   "outputs": [
    {
     "data": {
      "image/png": "[encoded data removed]",
      "text/plain": [
       "<Figure size 432x288 with 1 Axes>"
      ]
     },
     "metadata": {
      "needs_background": "light"
     },
     "output_type": "display_data"
    }
   ],
   "source": [
    "sns.countplot(data=df, x='Subject Perceived Gender', hue='Officer Gender')\n",
    "plt.title('Subject Gender vs Officer Gender')\n",
    "plt.xlabel('Subject Gender')\n",
    "plt.ylabel('Number of Stops')\n",
    "plt.tight_layout()\n",
    "plt.show()\n"
   ]
  },
  {
   "cell_type": "markdown",
   "id": "34cedf52",
   "metadata": {},
   "source": [
    "This grouped bar chart compares the perceived gender of subjects with the gender of the officers conducting the stops.\n",
    "\n",
    "The x-axis represents the subject's perceived gender (e.g., male, female, unknown).\n",
    "\n",
    "Each bar is split by officer gender using different colors (e.g., male officers vs female officers).\n",
    "he height of each bar shows how many stops occurred for each subject-officer gender combination."
   ]
  },
  {
   "cell_type": "markdown",
   "id": "4c2d0e8c",
   "metadata": {},
   "source": [
    "### Distribution of Stop Resolutions"
   ]
  },
  {
   "cell_type": "code",
   "execution_count": 211,
   "id": "e0349150",
   "metadata": {},
   "outputs": [
    {
     "data": {
      "image/png": "[encoded data removed]",
      "text/plain": [
       "<Figure size 432x288 with 1 Axes>"
      ]
     },
     "metadata": {
      "needs_background": "light"
     },
     "output_type": "display_data"
    }
   ],
   "source": [
    "sns.countplot(data=df, y='Stop Resolution', order=df['Stop Resolution'].value_counts().index)\n",
    "plt.title('Distribution of Stop Resolutions')\n",
    "plt.xlabel('Count')\n",
    "plt.ylabel('Stop Resolution')\n",
    "plt.tight_layout()\n",
    "plt.show()\n"
   ]
  },
  {
   "cell_type": "markdown",
   "id": "058d7367",
   "metadata": {},
   "source": [
    "This horizontal bar chart displays the frequency of different outcomes or resolutions following a stop.\n",
    "\n",
    "The y-axis lists all unique stop resolutions (e.g., citation issued, warning given, arrest made).\n",
    "\n",
    "The x-axis shows the count of how many times each resolution occurred.\n",
    "\n",
    "Bars are ordered from most to least frequent for easier comparison."
   ]
  },
  {
   "cell_type": "markdown",
   "id": "45e4e52b",
   "metadata": {},
   "source": [
    "### Final Call Type by Arrest Flag"
   ]
  },
  {
   "cell_type": "code",
   "execution_count": 215,
   "id": "17bf63c9",
   "metadata": {},
   "outputs": [
    {
     "data": {
      "image/png": "[encoded data removed]",
      "text/plain": [
       "<Figure size 432x288 with 1 Axes>"
      ]
     },
     "metadata": {
      "needs_background": "light"
     },
     "output_type": "display_data"
    }
   ],
   "source": [
    "sns.countplot(data=df, y='Final Call Type', hue='Arrest Flag',\n",
    "              order=df['Final Call Type'].value_counts().head(10).index)\n",
    "plt.title('Final Call Type by Arrest Flag')\n",
    "plt.tight_layout()\n",
    "plt.show()\n"
   ]
  },
  {
   "cell_type": "markdown",
   "id": "d79525f2",
   "metadata": {},
   "source": [
    "This horizontal bar chart displays the top 10 most frequent final call types during stops, broken down by whether an arrest was made or not:\n",
    "\n",
    "The y-axis lists the top 10 final call types by their occurrence.\n",
    "\n",
    "Each bar is split by the Arrest Flag (arrest made or not), showing how many stops of each call type resulted in an arrest."
   ]
  },
  {
   "cell_type": "code",
   "execution_count": 163,
   "id": "651ef39a",
   "metadata": {},
   "outputs": [
    {
     "data": {
      "text/html": [
       "<div>\n",
       "<style scoped>\n",
       "    .dataframe tbody tr th:only-of-type {\n",
       "        vertical-align: middle;\n",
       "    }\n",
       "\n",
       "    .dataframe tbody tr th {\n",
       "        vertical-align: top;\n",
       "    }\n",
       "\n",
       "    .dataframe thead th {\n",
       "        text-align: right;\n",
       "    }\n",
       "</style>\n",
       "<table border=\"1\" class=\"dataframe\">\n",
       "  <thead>\n",
       "    <tr style=\"text-align: right;\">\n",
       "      <th></th>\n",
       "      <th>Feature</th>\n",
       "      <th>Chi2 Score</th>\n",
       "      <th>p-value</th>\n",
       "    </tr>\n",
       "  </thead>\n",
       "  <tbody>\n",
       "    <tr>\n",
       "      <th>0</th>\n",
       "      <td>Stop Resolution</td>\n",
       "      <td>552.228570</td>\n",
       "      <td>4.122753e-122</td>\n",
       "    </tr>\n",
       "    <tr>\n",
       "      <th>4</th>\n",
       "      <td>Call Type</td>\n",
       "      <td>280.658003</td>\n",
       "      <td>5.397671e-63</td>\n",
       "    </tr>\n",
       "    <tr>\n",
       "      <th>1</th>\n",
       "      <td>Subject Perceived Gender</td>\n",
       "      <td>171.623546</td>\n",
       "      <td>3.270223e-39</td>\n",
       "    </tr>\n",
       "    <tr>\n",
       "      <th>3</th>\n",
       "      <td>Officer Race</td>\n",
       "      <td>18.192972</td>\n",
       "      <td>1.996141e-05</td>\n",
       "    </tr>\n",
       "    <tr>\n",
       "      <th>2</th>\n",
       "      <td>Subject Perceived Race</td>\n",
       "      <td>0.286249</td>\n",
       "      <td>5.926345e-01</td>\n",
       "    </tr>\n",
       "  </tbody>\n",
       "</table>\n",
       "</div>"
      ],
      "text/plain": [
       "                    Feature  Chi2 Score        p-value\n",
       "0           Stop Resolution  552.228570  4.122753e-122\n",
       "4                 Call Type  280.658003   5.397671e-63\n",
       "1  Subject Perceived Gender  171.623546   3.270223e-39\n",
       "3              Officer Race   18.192972   1.996141e-05\n",
       "2    Subject Perceived Race    0.286249   5.926345e-01"
      ]
     },
     "execution_count": 163,
     "metadata": {},
     "output_type": "execute_result"
    }
   ],
   "source": [
    "from sklearn.feature_selection import chi2\n",
    "# Select categorical columns (you can expand this list)\n",
    "categorical_cols = [\n",
    "    'Stop Resolution',\n",
    "    'Subject Perceived Gender', 'Subject Perceived Race',\n",
    "    'Officer Race', 'Call Type'\n",
    "]\n",
    "\n",
    "# Encode them\n",
    "encoded = df[categorical_cols].fillna('Unknown').apply(LabelEncoder().fit_transform)\n",
    "\n",
    "# Chi2 test\n",
    "chi_scores, p_vals = chi2(encoded, df['contraband_found'])\n",
    "\n",
    "# Create a DataFrame to display results\n",
    "chi_results = pd.DataFrame({\n",
    "    'Feature': categorical_cols,\n",
    "    'Chi2 Score': chi_scores,\n",
    "    'p-value': p_vals\n",
    "}).sort_values(by='Chi2 Score', ascending=False)\n",
    "\n",
    "chi_results\n"
   ]
  },
  {
   "cell_type": "markdown",
   "id": "f48e08ab",
   "metadata": {},
   "source": [
    "This table shows the Chi-squared test results for different features against the target variable.\n",
    "Features with low p-values (close to zero) indicate a significant relationship with the target, while higher p-values (like Subject Perceived Race) suggest no strong association."
   ]
  },
  {
   "cell_type": "markdown",
   "id": "fb2b5be3",
   "metadata": {},
   "source": [
    "##### Correlation Heatmap (Numerical)\n",
    "Correlation shows how strongly numerical variables are associated with the target. Let’s plot a heatmap."
   ]
  },
  {
   "cell_type": "code",
   "execution_count": 164,
   "id": "7b5d155c",
   "metadata": {},
   "outputs": [],
   "source": [
    "# Convert 'contraband_found' to numeric \n",
    "df['contraband_found'] = df['contraband_found'].astype(int)"
   ]
  },
  {
   "cell_type": "code",
   "execution_count": 165,
   "id": "b3b7d9e3",
   "metadata": {},
   "outputs": [],
   "source": [
    "# Select numerical columns\n",
    "num_cols = df.select_dtypes(include=['int64', 'float64']).columns"
   ]
  },
  {
   "cell_type": "code",
   "execution_count": 166,
   "id": "f37b5b99",
   "metadata": {},
   "outputs": [],
   "source": [
    "# Correlation matrix\n",
    "corr = df[num_cols].corr()"
   ]
  },
  {
   "cell_type": "markdown",
   "id": "560e4c2b",
   "metadata": {},
   "source": [
    "This heatmap visualizes the pairwise correlation coefficients between the numerical features in your dataset. The diagonal shows perfect correlation (1.00) of each variable with itself. Colors and values indicate the strength and direction of relationships between other variable pairs, with warmer colors and higher values (e.g., 0.70) representing stronger positive correlations, and cooler colors and lower positive values (e.g., 0.11) indicating weaker positive correlations."
   ]
  },
  {
   "cell_type": "code",
   "execution_count": 168,
   "id": "e2ad231d",
   "metadata": {},
   "outputs": [
    {
     "data": {
      "text/plain": [
       "contraband_found    1.00000\n",
       "officer_age        -0.10717\n",
       "Name: contraband_found, dtype: float64"
      ]
     },
     "execution_count": 168,
     "metadata": {},
     "output_type": "execute_result"
    }
   ],
   "source": [
    "# correlation matri\n",
    "corr = df.corr()\n",
    "\n",
    "# sort correlation with target\n",
    "corr['contraband_found'].sort_values(ascending=False)\n"
   ]
  },
  {
   "cell_type": "markdown",
   "id": "10b2c33a",
   "metadata": {},
   "source": [
    "The output shows a perfect positive correlation (1.00) for 'contraband_found' with itself. For 'officer_age', the correlation with 'contraband_found' is -0.10717, indicating a very weak negative relationship where slightly less contraband is found as officer age increases."
   ]
  },
  {
   "cell_type": "code",
   "execution_count": 169,
   "id": "f87e6bf4",
   "metadata": {},
   "outputs": [],
   "source": [
    "model = LogisticRegression(class_weight='balanced', random_state=42)"
   ]
  },
  {
   "cell_type": "markdown",
   "id": "62370669",
   "metadata": {},
   "source": [
    "I use `class_weight='balanced'` in Logistic Regression to handle class imbalance in the target variable.  \n",
    "It adjusts model penalties based on class frequencies, giving more weight to the minority class (contraband found).  \n",
    "This helps improve recall and overall performance on imbalanced datasets.\n"
   ]
  },
  {
   "cell_type": "markdown",
   "id": "835fcda2",
   "metadata": {},
   "source": [
    "### Training the model"
   ]
  },
  {
   "cell_type": "code",
   "execution_count": 170,
   "id": "2bae30f2",
   "metadata": {},
   "outputs": [],
   "source": [
    "X = df.drop('contraband_found', axis=1)\n",
    "y = df['contraband_found']\n",
    "\n",
    "X_train, X_test, y_train, y_test = train_test_split(\n",
    "    X, y, test_size=0.2, random_state=42, stratify=y\n",
    ")\n"
   ]
  },
  {
   "cell_type": "markdown",
   "id": "eafd7eb7",
   "metadata": {},
   "source": [
    "I split the dataset into training and test sets using `train_test_split`.  \n",
    "Stratifying on the target (`contraband_found`) ensures both sets preserve the original class distribution.  \n",
    "This is essential for fair evaluation, especially with imbalanced classes.\n"
   ]
  },
  {
   "cell_type": "markdown",
   "id": "811a83a4",
   "metadata": {},
   "source": [
    "### Training the Logistic Regression Model with Preprocessing"
   ]
  },
  {
   "cell_type": "code",
   "execution_count": 171,
   "id": "dbeb2a9e",
   "metadata": {},
   "outputs": [
    {
     "name": "stderr",
     "output_type": "stream",
     "text": [
      "c:\\Users\\HP\\anaconda3\\envs\\learn-env\\lib\\site-packages\\sklearn\\linear_model\\_logistic.py:762: ConvergenceWarning: lbfgs failed to converge (status=1):\n",
      "STOP: TOTAL NO. of ITERATIONS REACHED LIMIT.\n",
      "\n",
      "Increase the number of iterations (max_iter) or scale the data as shown in:\n",
      "    https://scikit-learn.org/stable/modules/preprocessing.html\n",
      "Please also refer to the documentation for alternative solver options:\n",
      "    https://scikit-learn.org/stable/modules/linear_model.html#logistic-regression\n",
      "  n_iter_i = _check_optimize_result(\n"
     ]
    },
    {
     "data": {
      "text/plain": [
       "Pipeline(steps=[('preprocessor',\n",
       "                 ColumnTransformer(remainder='passthrough',\n",
       "                                   transformers=[('cat',\n",
       "                                                  OneHotEncoder(handle_unknown='ignore'),\n",
       "                                                  ['Stop Resolution',\n",
       "                                                   'Officer Gender',\n",
       "                                                   'Officer Race',\n",
       "                                                   'Subject Perceived Race',\n",
       "                                                   'Subject Perceived Gender',\n",
       "                                                   'Initial Call Type',\n",
       "                                                   'Final Call Type',\n",
       "                                                   'Call Type',\n",
       "                                                   'Arrest Flag'])])),\n",
       "                ('classifier',\n",
       "                 LogisticRegression(class_weight='balanced', max_iter=500,\n",
       "                                    random_state=42))])"
      ]
     },
     "execution_count": 171,
     "metadata": {},
     "output_type": "execute_result"
    }
   ],
   "source": [
    "from sklearn.compose import ColumnTransformer\n",
    "from sklearn.preprocessing import OneHotEncoder\n",
    "from sklearn.pipeline import Pipeline\n",
    "from sklearn.linear_model import LogisticRegression\n",
    "\n",
    "# Identify categorical and numerical columns\n",
    "categorical_cols = X.select_dtypes(include='object').columns.tolist()\n",
    "numerical_cols = X.select_dtypes(include=['int64', 'float64']).columns.tolist()\n",
    "\n",
    "# Define preprocessing\n",
    "preprocessor = ColumnTransformer(\n",
    "    transformers=[\n",
    "        ('cat', OneHotEncoder(handle_unknown='ignore'), categorical_cols)\n",
    "    ],\n",
    "    remainder='passthrough'  # Leave numerical columns as they are\n",
    ")\n",
    "\n",
    "# Create a pipeline that preprocesses then trains\n",
    "model_pipeline = Pipeline(steps=[\n",
    "    ('preprocessor', preprocessor),\n",
    "    ('classifier', LogisticRegression(class_weight='balanced', random_state=42, max_iter=500))\n",
    "])\n",
    "\n",
    "# Fit the model\n",
    "model_pipeline.fit(X_train, y_train)\n"
   ]
  },
  {
   "cell_type": "markdown",
   "id": "9b5eb2f8",
   "metadata": {},
   "source": [
    "This code creates a pipeline that first one-hot encodes all categorical features and then fits a Logistic Regression model with balanced class weights.  \n",
    "Setting `max_iter=500` helps ensure the model converges during training.  \n",
    "The pipeline simplifies preprocessing and model fitting into one seamless step.\n"
   ]
  },
  {
   "cell_type": "markdown",
   "id": "3398dfa4",
   "metadata": {},
   "source": [
    "### Make Predictions"
   ]
  },
  {
   "cell_type": "code",
   "execution_count": null,
   "id": "82d0c846",
   "metadata": {},
   "outputs": [],
   "source": [
    "y_pred = model_pipeline.predict(X_test)\n",
    "y_proba = model_pipeline.predict_proba(X_test)[:, 1]  # Probability estimates for the positive class"
   ]
  },
  {
   "cell_type": "markdown",
   "id": "a551f933",
   "metadata": {},
   "source": [
    "I generate predictions on the test set using `.predict()`.  \n",
    "Probabilities of the positive class (`contraband_found=1`) are extracted with `.predict_proba()` for advanced metrics or threshold tuning.  \n",
    "These predictions will be used to evaluate how well the model performs on unseen data.\n"
   ]
  },
  {
   "cell_type": "code",
   "execution_count": 173,
   "id": "94446f59",
   "metadata": {},
   "outputs": [
    {
     "name": "stdout",
     "output_type": "stream",
     "text": [
      "Accuracy: 0.7149\n",
      "Precision: 0.3750\n",
      "Recall: 0.7327\n",
      "F1 Score: 0.4961\n",
      "Confusion Matrix:\n",
      "[[5275 2147]\n",
      " [ 470 1288]]\n"
     ]
    }
   ],
   "source": [
    "from sklearn.metrics import accuracy_score, precision_score, recall_score, f1_score, confusion_matrix\n",
    "\n",
    "accuracy = accuracy_score(y_test, y_pred)\n",
    "precision = precision_score(y_test, y_pred)\n",
    "recall = recall_score(y_test, y_pred)\n",
    "f1 = f1_score(y_test, y_pred)\n",
    "conf_matrix = confusion_matrix(y_test, y_pred)\n",
    "\n",
    "print(f\"Accuracy: {accuracy:.4f}\")\n",
    "print(f\"Precision: {precision:.4f}\")\n",
    "print(f\"Recall: {recall:.4f}\")\n",
    "print(f\"F1 Score: {f1:.4f}\")\n",
    "print(\"Confusion Matrix:\")\n",
    "print(conf_matrix)\n"
   ]
  },
  {
   "cell_type": "markdown",
   "id": "da19a103",
   "metadata": {},
   "source": [
    "#### Explanation of the Logistic Regression Model\n",
    "This logistic regression model is built to predict whether contraband was found during a police stop (contraband_found), based on various demographic and stop-related features.\n",
    "\n",
    "Data preprocessing:\n",
    "The pipeline applies one-hot encoding to all categorical features using a ColumnTransformer, transforming categories into a numerical format suitable for the logistic regression model. Numerical features are passed through without changes.\n",
    "\n",
    "Model selection:\n",
    "Logistic Regression is chosen for its effectiveness in binary classification problems. The class_weight='balanced' parameter helps handle the class imbalance by adjusting weights inversely proportional to class frequencies.\n",
    "\n",
    "Train-test split:\n",
    "The dataset is split into training and testing sets with an 80/20 ratio, stratifying on the target variable to maintain the original class distribution in both sets.\n",
    "\n",
    "Model fitting and prediction:\n",
    "The pipeline fits the logistic regression model on the training data, then predicts on the test data. It outputs both predicted classes and predicted probabilities for the positive class.\n",
    "\n",
    "Evaluation metrics:\n",
    "The model is evaluated on accuracy, precision, recall, and F1-score, providing a well-rounded view of performance. The confusion matrix offers insight into true/false positives and negatives.\n",
    "\n",
    "Results interpretation:\n",
    "\n",
    "Accuracy (~71.5%) shows the overall correct predictions proportion.\n",
    "\n",
    "Precision (~37.5%) reflects the proportion of positive predictions that are correct.\n",
    "\n",
    "Recall (~73.3%) indicates a strong ability to detect actual positives (contraband found).\n",
    "\n",
    "F1-score (~49.6%) balances precision and recall for a single performance measure.\n",
    "\n",
    "This model provides a solid baseline for contraband detection using logistic regression with basic preprocessing and class imbalance adjustment.\n",
    "\n"
   ]
  },
  {
   "cell_type": "markdown",
   "id": "66bd57dd",
   "metadata": {},
   "source": [
    "### Decision Tree Classifier: Model Setup and Objective\n",
    "In this section, I will build and evaluate a Decision Tree Classifier to predict whether contraband was found during a Terry stop.\n",
    "\n",
    "The goal is to explore how a tree-based model performs on this classification task compared to the earlier logistic regression model. Specifically, I aim to:\n",
    "\n",
    "Train a Decision Tree on the same features and target variable (contraband_found)\n",
    "\n",
    "Use the same preprocessing steps to ensure a fair comparison\n",
    "\n",
    "Evaluate the model using standard metrics: accuracy, precision, recall, F1-score, and confusion matrix\n",
    "\n",
    "Visualize the structure of the tree to gain interpretability into feature importance and decision rules"
   ]
  },
  {
   "cell_type": "code",
   "execution_count": 203,
   "id": "8097965c",
   "metadata": {},
   "outputs": [
    {
     "name": "stdout",
     "output_type": "stream",
     "text": [
      " Decision Tree Model Evaluation\n",
      "Accuracy: 0.6576\n",
      "Precision: 0.3282\n",
      "Recall: 0.7526\n",
      "F1 Score: 0.4571\n",
      "Confusion Matrix:\n",
      "[[4714 2708]\n",
      " [ 435 1323]]\n"
     ]
    }
   ],
   "source": [
    "from sklearn.tree import DecisionTreeClassifier\n",
    "from sklearn.metrics import accuracy_score, precision_score, recall_score, f1_score, confusion_matrix, ConfusionMatrixDisplay\n",
    "\n",
    "# Create a new pipeline using the same preprocessor\n",
    "tree_pipeline = Pipeline(steps=[\n",
    "    ('preprocessor', preprocessor),\n",
    "    ('classifier', DecisionTreeClassifier(\n",
    "        max_depth=6,              # controls overfitting\n",
    "        min_samples_split=10,     # minimum samples to split a node\n",
    "        min_samples_leaf=5,       # minimum samples at a leaf\n",
    "        class_weight='balanced',  # handles imbalance in target\n",
    "        random_state=42\n",
    "    ))\n",
    "])\n",
    "\n",
    "# Fit the pipeline to training data\n",
    "tree_pipeline.fit(X_train, y_train)\n",
    "\n",
    "# Predict\n",
    "y_pred_tree = tree_pipeline.predict(X_test)\n",
    "\n",
    "# Evaluate\n",
    "accuracy = accuracy_score(y_test, y_pred_tree)\n",
    "precision = precision_score(y_test, y_pred_tree)\n",
    "recall = recall_score(y_test, y_pred_tree)\n",
    "f1 = f1_score(y_test, y_pred_tree)\n",
    "conf_matrix = confusion_matrix(y_test, y_pred_tree)\n",
    "\n",
    "print(\" Decision Tree Model Evaluation\")\n",
    "print(f\"Accuracy: {accuracy:.4f}\")\n",
    "print(f\"Precision: {precision:.4f}\")\n",
    "print(f\"Recall: {recall:.4f}\")\n",
    "print(f\"F1 Score: {f1:.4f}\")\n",
    "print(\"Confusion Matrix:\")\n",
    "print(conf_matrix)\n"
   ]
  },
  {
   "cell_type": "markdown",
   "id": "97522bcf",
   "metadata": {},
   "source": [
    "The model has a moderate overall accuracy (66%), but it tends to favor recall over precision.\n",
    "\n",
    "High recall (75%) for detecting contraband (class 1) means the model is good at flagging potential cases, which can be desirable in high-risk scenarios.\n",
    "\n",
    "Low precision (33%) suggests that many flagged stops may not actually involve contraband, leading to false positives.\n",
    "\n",
    "This imbalance indicates the need for tuning or additional techniques (e.g., regularization, pruning, class weighting) to better balance recall and precision.\n",
    "\n"
   ]
  },
  {
   "cell_type": "markdown",
   "id": "f2357ac4",
   "metadata": {},
   "source": [
    "#### Tunning "
   ]
  },
  {
   "cell_type": "code",
   "execution_count": 193,
   "id": "b71b902d",
   "metadata": {},
   "outputs": [
    {
     "name": "stdout",
     "output_type": "stream",
     "text": [
      "Best Parameters: {'classifier__max_depth': 10, 'classifier__min_samples_leaf': 5, 'classifier__min_samples_split': 20}\n",
      "              precision    recall  f1-score   support\n",
      "\n",
      "           0       0.91      0.68      0.78      7422\n",
      "           1       0.35      0.73      0.47      1758\n",
      "\n",
      "    accuracy                           0.69      9180\n",
      "   macro avg       0.63      0.70      0.63      9180\n",
      "weighted avg       0.80      0.69      0.72      9180\n",
      "\n"
     ]
    }
   ],
   "source": [
    "from sklearn.model_selection import GridSearchCV\n",
    "from sklearn.tree import DecisionTreeClassifier\n",
    "\n",
    "# Update the pipeline with a fresh classifier\n",
    "from sklearn.pipeline import Pipeline\n",
    "\n",
    "tree_pipeline = Pipeline(steps=[\n",
    "    ('preprocessor', preprocessor),\n",
    "    ('classifier', DecisionTreeClassifier(class_weight='balanced', random_state=42))\n",
    "])\n",
    "\n",
    "param_grid = {\n",
    "    'classifier__max_depth': [3, 5, 10, None],\n",
    "    'classifier__min_samples_split': [2, 10, 20],\n",
    "    'classifier__min_samples_leaf': [1, 5, 10]\n",
    "}\n",
    "\n",
    "grid_search = GridSearchCV(tree_pipeline, param_grid, cv=5, scoring='f1', n_jobs=-1)\n",
    "grid_search.fit(X_train, y_train)\n",
    "\n",
    "print(\"Best Parameters:\", grid_search.best_params_)\n",
    "best_model = grid_search.best_estimator_\n",
    "\n",
    "# Evaluate the best model\n",
    "y_pred = best_model.predict(X_test)\n",
    "from sklearn.metrics import classification_report\n",
    "print(classification_report(y_test, y_pred))\n"
   ]
  },
  {
   "cell_type": "markdown",
   "id": "c6df5323",
   "metadata": {},
   "source": [
    "The model is moderately accurate and shows a high recall for detecting contraband (class 1), which is crucial in safety-related contexts like policing.\n",
    "\n",
    "A trade-off exists between catching as many true contraband cases as possible (high recall) and ensuring that flagged cases are correct (precision).\n",
    "\n",
    "Further improvements may involve ensemble methods (like Random Forests or Gradient Boosting), feature selection, or addressing class imbalance more directly."
   ]
  },
  {
   "cell_type": "markdown",
   "id": "b2065555",
   "metadata": {},
   "source": [
    "## Random forest"
   ]
  },
  {
   "cell_type": "code",
   "execution_count": 195,
   "id": "1b9606be",
   "metadata": {},
   "outputs": [
    {
     "name": "stdout",
     "output_type": "stream",
     "text": [
      "Random Forest Model Evaluation\n",
      "Accuracy: 0.7894\n",
      "Precision: 0.4296\n",
      "Recall: 0.3038\n",
      "F1 Score: 0.3559\n",
      "Confusion Matrix:\n",
      "[[6713  709]\n",
      " [1224  534]]\n"
     ]
    }
   ],
   "source": [
    "from sklearn.ensemble import RandomForestClassifier\n",
    "from sklearn.pipeline import Pipeline\n",
    "from sklearn.metrics import accuracy_score, precision_score, recall_score, f1_score, confusion_matrix\n",
    "\n",
    "# Create a new pipeline with Random Forest\n",
    "rf_pipeline = Pipeline(steps=[\n",
    "    ('preprocessor', preprocessor),\n",
    "    ('classifier', RandomForestClassifier(random_state=42, class_weight='balanced'))\n",
    "])\n",
    "\n",
    "# Fit the model\n",
    "rf_pipeline.fit(X_train, y_train)\n",
    "\n",
    "# Predict on test data\n",
    "y_pred_rf = rf_pipeline.predict(X_test)\n",
    "\n",
    "# Evaluate\n",
    "accuracy = accuracy_score(y_test, y_pred_rf)\n",
    "precision = precision_score(y_test, y_pred_rf)\n",
    "recall = recall_score(y_test, y_pred_rf)\n",
    "f1 = f1_score(y_test, y_pred_rf)\n",
    "conf_matrix = confusion_matrix(y_test, y_pred_rf)\n",
    "\n",
    "print(\"Random Forest Model Evaluation\")\n",
    "print(f\"Accuracy: {accuracy:.4f}\")\n",
    "print(f\"Precision: {precision:.4f}\")\n",
    "print(f\"Recall: {recall:.4f}\")\n",
    "print(f\"F1 Score: {f1:.4f}\")\n",
    "print(\"Confusion Matrix:\")\n",
    "print(conf_matrix)\n"
   ]
  },
  {
   "cell_type": "markdown",
   "id": "ba1d2e79",
   "metadata": {},
   "source": [
    "## Model Selection Summary\n",
    "\n",
    "My  objective in this project was to determine **whether a stop, frisk, or arrest results in the discovery of contraband**. This is a classification problem where:\n",
    "\n",
    "- **Positive class (1)** represents: *Contraband found*\n",
    "- **Negative class (0)** represents: *No contraband found*\n",
    "\n",
    "###  Evaluation Focus\n",
    "Given the goal, My prioritized models with:\n",
    "- **High Recall for class 1**: So we don't miss many real contraband cases.\n",
    "- **Balanced F1 Score**: To ensure reasonable trade-off between precision and recall.\n",
    "\n",
    "### Model Comparison and Selection\n",
    "To determine whether a stop, frisk, or arrest results in the discovery of contraband, we evaluated three models: Logistic Regression, a tuned Decision Tree, and a tuned Random Forest.\n",
    "\n",
    "The Logistic Regression model stood out with the highest recall (73.3%) and the best F1 score (0.4961). This means it was most effective at identifying true contraband cases without sacrificing too much precision.\n",
    "\n",
    "The tuned Decision Tree came close, also achieving a recall of 73%, but with a slightly lower F1 score (0.47), making it slightly less balanced than Logistic Regression.\n",
    "\n",
    "On the other hand, while the tuned Random Forest had the highest precision (44.4%), it struggled with recall (27.8%), indicating that it missed many actual contraband cases. This makes it less suitable for our goal, which prioritizes not missing true positives.\n",
    "\n",
    "### Final Model Choice: **Logistic Regression**\n",
    "\n",
    "The **logistic regression model** achieved the best **recall (73.3%)** and the highest **F1 score (0.4961)**, indicating it is the most effective and balanced model for predicting whether a stop or search leads to contraband discovery.\n",
    "\n",
    "It will be used as our final model to derive insights and recommendations.\n",
    "\n"
   ]
  }
 ],
 "metadata": {
  "kernelspec": {
   "display_name": "learn-env",
   "language": "python",
   "name": "python3"
  },
  "language_info": {
   "codemirror_mode": {
    "name": "ipython",
    "version": 3
   },
   "file_extension": ".py",
   "mimetype": "text/x-python",
   "name": "python",
   "nbconvert_exporter": "python",
   "pygments_lexer": "ipython3",
   "version": "3.8.5"
  }
 },
 "nbformat": 4,
 "nbformat_minor": 5
}
